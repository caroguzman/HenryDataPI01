{
 "cells": [
  {
   "attachments": {},
   "cell_type": "markdown",
   "metadata": {},
   "source": [
    "Deben crear 6 funciones para los endpoints que se consumirán en la API, recuerden que deben tener un decorador por cada una (@app.get(‘/’)).\n",
    "\n",
    "def **peliculas_idioma( Idioma: str ):** Se ingresa un idioma (como están escritos en el dataset, no hay que traducirlos!). Debe devolver la cantidad de películas producidas en ese idioma.\n",
    "                    Ejemplo de retorno: X cantidad de películas fueron estrenadas en idioma\n",
    "\n",
    "def **peliculas_duracion( Pelicula: str ):** Se ingresa una pelicula. Debe devolver la la duracion y el año.\n",
    "                    Ejemplo de retorno: X . Duración: x. Año: xx\n",
    "\n",
    "def **franquicia( Franquicia: str ):** Se ingresa la franquicia, retornando la cantidad de peliculas, ganancia total y promedio\n",
    "                    Ejemplo de retorno: La franquicia X posee X peliculas, una ganancia total de x y una ganancia promedio de xx\n",
    "\n",
    "def **peliculas_pais( Pais: str ):** Se ingresa un país (como están escritos en el dataset, no hay que traducirlos!), retornando la cantidad de peliculas producidas en el mismo.\n",
    "                    Ejemplo de retorno: Se produjeron X películas en el país X\n",
    "\n",
    "def **productoras_exitosas( Productora: str ):** Se ingresa la productora, entregandote el revunue total y la cantidad de peliculas que realizo.\n",
    "                    Ejemplo de retorno: La productora X ha tenido un revenue de x\n",
    "\n",
    "def **get_director( nombre_director ):** Se ingresa el nombre de un director que se encuentre dentro de un dataset debiendo devolver el éxito del mismo medido a través del retorno. Además, deberá devolver el nombre de cada película con la fecha de lanzamiento, retorno individual, costo y ganancia de la misma, en formato lista.\n"
   ]
  },
  {
   "cell_type": "code",
   "execution_count": 2,
   "metadata": {},
   "outputs": [],
   "source": [
    "import pandas as pd\n",
    "\n",
    "# Cargar el archivo CSV en un DataFrame\n",
    "df = pd.read_csv('./Dataset/datosMoviesPI01.csv',  encoding='latin-1')"
   ]
  },
  {
   "cell_type": "code",
   "execution_count": 3,
   "metadata": {},
   "outputs": [],
   "source": [
    "def peliculas_idioma( Idioma: str ):\n",
    "    # Filtro las películas que coincidan con el idioma ingresado\n",
    "    peliculas_filtradas = df[df['original_language'] == Idioma]\n",
    "\n",
    "    # Obtener la cantidad de películas producidas en el idioma especificado\n",
    "    cantidad_peliculas = len(peliculas_filtradas)\n",
    "\n",
    "    # Retornar la cantidad de películas\n",
    "    return cantidad_peliculas"
   ]
  },
  {
   "cell_type": "code",
   "execution_count": 4,
   "metadata": {},
   "outputs": [
    {
     "name": "stdout",
     "output_type": "stream",
     "text": [
      "32202\n"
     ]
    }
   ],
   "source": [
    "#prueba funcion 1\n",
    "print(peliculas_idioma('en'))"
   ]
  },
  {
   "cell_type": "code",
   "execution_count": 5,
   "metadata": {},
   "outputs": [],
   "source": [
    "def peliculas_duracion( Pelicula: str ):\n",
    "    # Buscar la película en el DataFrame\n",
    "    pelicula_filtrada = df[df['title'] == Pelicula]\n",
    "\n",
    "    # Verificar si se encontró la película\n",
    "    if len(pelicula_filtrada) > 0:\n",
    "        # Obtener la duración y el año de lanzamiento\n",
    "        duracion = pelicula_filtrada['runtime'].values[0]\n",
    "        anio = pelicula_filtrada['release_year'].values[0]\n",
    "\n",
    "        # Devolver el resultado formateado\n",
    "        return f\"{Pelicula}. Duración: {duracion} minutos. Año: {anio}\"\n",
    "    else:\n",
    "        return \"La película no fue encontrada.\""
   ]
  },
  {
   "cell_type": "code",
   "execution_count": 6,
   "metadata": {},
   "outputs": [
    {
     "name": "stdout",
     "output_type": "stream",
     "text": [
      "Toy Story. Duración: 81.0 minutos. Año: 1995\n"
     ]
    }
   ],
   "source": [
    "#prueba funcion 2\n",
    "nombre_pelicula = \"Toy Story\"\n",
    "resultado = peliculas_duracion(nombre_pelicula)\n",
    "print(resultado)"
   ]
  },
  {
   "cell_type": "code",
   "execution_count": 7,
   "metadata": {},
   "outputs": [],
   "source": [
    "def franquicia( Franquicia: str ):\n",
    "    franquicia_filtrada = df[df['franquicia'] == Franquicia]\n",
    "\n",
    "    # Verificar si se encontraron películas de la franquicia\n",
    "    if len(franquicia_filtrada) > 0:\n",
    "        # Obtener la cantidad de películas, ganancia total y ganancia promedio\n",
    "        cantidad_peliculas = len(franquicia_filtrada)\n",
    "        ganancia_total = franquicia_filtrada['revenue'].sum()\n",
    "        ganancia_promedio = franquicia_filtrada['revenue'].mean()\n",
    "\n",
    "        # Devolver el resultado formateado\n",
    "        return f\"La franquicia {Franquicia} posee {cantidad_peliculas} películas, una ganancia total de {ganancia_total} y una ganancia promedio de {ganancia_promedio}\"\n",
    "    else:\n",
    "        return \"La franquicia no fue encontrada o no tiene películas asociadas.\""
   ]
  },
  {
   "cell_type": "code",
   "execution_count": 9,
   "metadata": {},
   "outputs": [
    {
     "name": "stdout",
     "output_type": "stream",
     "text": [
      "La franquicia Star Wars Collection posee 8 películas, una ganancia total de 7434494790.0 y una ganancia promedio de 929311848.75\n"
     ]
    }
   ],
   "source": [
    "#probar la funcion 3\n",
    "nombre_franquicia = \"Star Wars Collection\"\n",
    "resultado = franquicia(nombre_franquicia)\n",
    "print(resultado)"
   ]
  },
  {
   "cell_type": "code",
   "execution_count": 14,
   "metadata": {},
   "outputs": [],
   "source": [
    "def peliculas_pais( Pais: str ):\n",
    "    # Filtrar el DataFrame por el país\n",
    "    peliculas_pais_filtradas = df[df['paises'].apply(lambda x: Pais in x)]\n",
    "\n",
    "    # Obtener la cantidad de películas producidas en el país\n",
    "    cantidad_peliculas = len(peliculas_pais_filtradas)\n",
    "\n",
    "    # Devolver el resultado formateado\n",
    "    return f\"Se produjeron {cantidad_peliculas} películas en el país {Pais}\""
   ]
  },
  {
   "cell_type": "code",
   "execution_count": 15,
   "metadata": {},
   "outputs": [
    {
     "name": "stdout",
     "output_type": "stream",
     "text": [
      "Se produjeron 21147 películas en el país United States of America\n"
     ]
    }
   ],
   "source": [
    "#probar la funcion 4\n",
    "nombre_pais = \"United States of America\"\n",
    "resultado = peliculas_pais(nombre_pais)\n",
    "print(resultado)"
   ]
  },
  {
   "cell_type": "code",
   "execution_count": 16,
   "metadata": {},
   "outputs": [],
   "source": [
    "def productoras_exitosas( Productora: str ):\n",
    "    # Filtrar el DataFrame por la productora\n",
    "    peliculas_productora = df[df['productoras'].apply(lambda x: Productora in x)]\n",
    "\n",
    "    # Calcular el revenue total\n",
    "    revenue_total = peliculas_productora['revenue'].sum()\n",
    "\n",
    "    # Obtener la cantidad de películas realizadas\n",
    "    cantidad_peliculas = len(peliculas_productora)\n",
    "\n",
    "    # Devolver el resultado formateado\n",
    "    return f\"La productora {Productora} ha tenido un revenue de {revenue_total} y ha realizado {cantidad_peliculas} películas.\""
   ]
  },
  {
   "cell_type": "code",
   "execution_count": 17,
   "metadata": {},
   "outputs": [
    {
     "name": "stdout",
     "output_type": "stream",
     "text": [
      "La productora Pixar Animation Studios ha tenido un revenue de 11188533734.0 y ha realizado 52 películas.\n"
     ]
    }
   ],
   "source": [
    "#pruebo funcion 5\n",
    "nombre_productora = \"Pixar Animation Studios\"\n",
    "resultado = productoras_exitosas(nombre_productora)\n",
    "print(resultado)"
   ]
  },
  {
   "cell_type": "code",
   "execution_count": 33,
   "metadata": {},
   "outputs": [],
   "source": [
    "def get_director(nombre_director):\n",
    "    director_df = df[df['directores'].apply(lambda x: nombre_director in x)]\n",
    "    \n",
    "    # Verificar si se encontró al director\n",
    "    if len(director_df) > 0:\n",
    "        # Calcular el éxito del director\n",
    "        exito = director_df['return'].sum()\n",
    "        \n",
    "        # Crear una lista con los datos requeridos\n",
    "        lista = []\n",
    "        for index, director in director_df.iterrows():\n",
    "            nombre = director['title']\n",
    "            fecha_release = director['release_date']\n",
    "            retorno = director['return']\n",
    "            costo = director['budget']\n",
    "            ganancia = director['revenue']\n",
    "            lista.append([nombre, fecha_release, retorno, costo, ganancia])\n",
    "        \n",
    "        # Devolver el resultado formateado\n",
    "        return f\"El éxito del director {nombre_director} es: {exito}. Películas: {lista}\"\n",
    "    else:\n",
    "        return \"Director no ha sido encontrado en el dataset\""
   ]
  },
  {
   "cell_type": "code",
   "execution_count": 34,
   "metadata": {},
   "outputs": [
    {
     "name": "stdout",
     "output_type": "stream",
     "text": [
      "El éxito del director Oliver Stone es: 57.08086018504032. Películas: [['Nixon', '1995-12-22', 0.3109492045454545, 44000000, 13681765.0], ['Natural Born Killers', '1994-08-25', 1.4789048823529412, 34000000, 50282766.0], ['Heaven & Earth', '1993-12-24', 0.0, 33000000, 0.0], ['Platoon', '1986-12-18', 23.0884275, 6000000, 138530565.0], ['The Doors', '1991-03-01', 0.9057077105263158, 38000000, 34416893.0], ['U Turn', '1997-10-03', 0.3516893684210526, 19000000, 6682098.0], ['Any Given Sunday', '1999-12-16', 1.8223787636363635, 55000000, 100230832.0], ['JFK', '1991-12-20', 5.13513745, 40000000, 205405498.0], ['Wall Street', '1987-12-10', 2.9232046, 15000000, 43848069.0], ['Born on the Fourth of July', '1989-12-20', 11.500121285714286, 14000000, 161001698.0], ['Talk Radio', '1988-12-21', 0.867143, 4000000, 3468572.0], ['Salvador', '1986-04-23', 0.0, 4500000, 0.0], ['The Hand', '1981-04-24', 0.0871901538461538, 6500000, 566736.0], ['Comandante', '2003-02-14', 0.0, 0, 0.0], ['Alexander', '2004-11-21', 1.0793431741935484, 155000000, 167298192.0], ['World Trade Center', '2006-08-09', 2.586442761904762, 63000000, 162945894.0], ['W.', '2008-10-17', 1.175556334661355, 25100000, 29506464.0], ['Wall Street: Money Never Sleeps', '2010-09-02', 1.9249717285714285, 70000000, 134748021.0], ['South of the Border', '2009-09-07', 0.0, 0, 0.0], ['Savages', '2012-07-06', 1.8436922666666664, 45000000, 82966152.0], ['Breaking the Silence: Truth and Lies in the War on Terror', '2003-09-21', 0.0, 0, 0.0], ['2081', '2009-05-29', 0.0, 0, 0.0], ['Turf', '2013-02-13', 0.0, 0, 0.0], ['Martian Successor Nadesico: The Motion Picture - Prince of Darkness', '1998-08-01', 0.0, 0, 0.0], ['Pharaoh', '1966-03-10', 0.0, 0, 0.0]]\n"
     ]
    }
   ],
   "source": [
    "#pruebo funcion 6\n",
    "nombre_director = \"Oliver Stone\"\n",
    "resultado = get_director( nombre_director )\n",
    "print(resultado)\n"
   ]
  },
  {
   "cell_type": "code",
   "execution_count": null,
   "metadata": {},
   "outputs": [],
   "source": [
    "@app.get(\"peliculas_idioma/{idioma}\")\n",
    "def peliculas_idioma( idioma: str ):\n",
    "    # Filtro las películas que coincidan con el idioma ingresado\n",
    "    peliculas_filtradas = df[df['original_language'] == idioma]\n",
    "\n",
    "    # Obtener la cantidad de películas producidas en el idioma especificado\n",
    "    cantidad_peliculas = len(peliculas_filtradas)\n",
    "\n",
    "    # Retornar la cantidad de películas\n",
    "    return cantidad_peliculas\n",
    "\n",
    "@app.get(\"peliculas_duracion/{pelicula}\")\n",
    "def peliculas_duracion( pelicula: str ):\n",
    "    # Buscar la película en el DataFrame\n",
    "    pelicula_filtrada = df[df['title'] == pelicula]\n",
    "\n",
    "    # Verificar si se encontró la película\n",
    "    if len(pelicula_filtrada) > 0:\n",
    "        # Obtener la duración y el año de lanzamiento\n",
    "        duracion = pelicula_filtrada['runtime'].values[0]\n",
    "        anio = pelicula_filtrada['release_year'].values[0]\n",
    "\n",
    "        # Devolver el resultado formateado\n",
    "        return f\"{Pelicula}. Duración: {duracion} minutos. Año: {anio}\"\n",
    "    else:\n",
    "        return \"La película no fue encontrada.\"\n",
    "    \n",
    "    \n",
    "@app.get(\"franquicia/{franquicia}\")\n",
    "def franquicia( franquicia: str ):\n",
    "    franquicia_filtrada = df[df['franquicia'] == franquicia]\n",
    "\n",
    "    # Verificar si se encontraron películas de la franquicia\n",
    "    if len(franquicia_filtrada) > 0:\n",
    "        # Obtener la cantidad de películas, ganancia total y ganancia promedio\n",
    "        cantidad_peliculas = len(franquicia_filtrada)\n",
    "        ganancia_total = franquicia_filtrada['revenue'].sum()\n",
    "        ganancia_promedio = franquicia_filtrada['revenue'].mean()\n",
    "\n",
    "        # Devolver el resultado formateado\n",
    "        return f\"La franquicia {franquicia} posee {cantidad_peliculas} películas, una ganancia total de {ganancia_total} y una ganancia promedio de {ganancia_promedio}\"\n",
    "    else:\n",
    "        return \"La franquicia no fue encontrada o no tiene películas asociadas.\"\n",
    "    \n",
    "@app.get(\"peliculas_pais/{pais}\")\n",
    "def peliculas_pais( pais: str ):\n",
    "    # Filtrar el DataFrame por el país\n",
    "    peliculas_pais_filtradas = df[df['paises'].apply(lambda x: pais in x)]\n",
    "\n",
    "    # Obtener la cantidad de películas producidas en el país\n",
    "    cantidad_peliculas = len(peliculas_pais_filtradas)\n",
    "\n",
    "    # Devolver el resultado formateado\n",
    "    return f\"Se produjeron {cantidad_peliculas} películas en el país {pais}\"\n",
    "\n",
    "@app.get(\"productoras_exitosas/{productora}\")\n",
    "def productoras_exitosas( productora: str ):\n",
    "    # Filtrar el DataFrame por la productora\n",
    "    peliculas_productora = df[df['productoras'].apply(lambda x: productora in x)]\n",
    "\n",
    "    # Calcular el revenue total\n",
    "    revenue_total = peliculas_productora['revenue'].sum()\n",
    "\n",
    "    # Obtener la cantidad de películas realizadas\n",
    "    cantidad_peliculas = len(peliculas_productora)\n",
    "\n",
    "    # Devolver el resultado formateado\n",
    "    return f\"La productora {productora} ha tenido un revenue de {revenue_total} y ha realizado {cantidad_peliculas} películas.\"\n",
    "\n",
    "@app.get(\"get_director/{nombre _director}\")\n",
    "def get_director(nombre_director):\n",
    "    director_df = df[df['directores'].apply(lambda x: nombre_director in x)]\n",
    "    \n",
    "    # Verificar si se encontró al director\n",
    "    if len(director_df) > 0:\n",
    "        # Calcular el éxito del director\n",
    "        exito = director_df['return'].sum()\n",
    "        \n",
    "        # Crear una lista con los datos requeridos\n",
    "        lista = []\n",
    "        for index, director in director_df.iterrows():\n",
    "            nombre = director['title']\n",
    "            fecha_release = director['release_date']\n",
    "            retorno = director['return']\n",
    "            costo = director['budget']\n",
    "            ganancia = director['revenue']\n",
    "            lista.append([nombre, fecha_release, retorno, costo, ganancia])\n",
    "        \n",
    "        # Devolver el resultado formateado\n",
    "        return f\"El éxito del director {nombre_director} es: {exito}. Películas: {lista}\"\n",
    "    else:\n",
    "        return \"Director no ha sido encontrado en el dataset\""
   ]
  }
 ],
 "metadata": {
  "kernelspec": {
   "display_name": "Python 3",
   "language": "python",
   "name": "python3"
  },
  "language_info": {
   "codemirror_mode": {
    "name": "ipython",
    "version": 3
   },
   "file_extension": ".py",
   "mimetype": "text/x-python",
   "name": "python",
   "nbconvert_exporter": "python",
   "pygments_lexer": "ipython3",
   "version": "3.10.11"
  },
  "orig_nbformat": 4
 },
 "nbformat": 4,
 "nbformat_minor": 2
}
