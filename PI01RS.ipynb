{
 "cells": [
  {
   "cell_type": "code",
   "execution_count": null,
   "metadata": {},
   "outputs": [],
   "source": [
    "#importamos las librerias necesarias\n",
    "import pandas as pd\n",
    "import sklearn as sk\n",
    "import numpy as np\n",
    "from sklearn.feature_extraction.text import TfidfVectorizer"
   ]
  },
  {
   "cell_type": "code",
   "execution_count": null,
   "metadata": {},
   "outputs": [],
   "source": [
    "def recomendacion( titulo: str ):\n",
    "    df_similitud_titulos = df['title'].tolist()\n",
    "    \n",
    "    tfidf_vectorizer = TfidfVectorizer(stop_words='english', use_idf=True)\n",
    "    df_similitud_titulos2 = tfidf_vectorizer.fit_transform(df_similitud_titulos)\n",
    "    df_tfidf = pd.DataFrame(df_similitud_titulos2.toarray(),columns=tfidf_vectorizer.get_feature_names_out())\n",
    "\n",
    "    titulo_buscar = titulo\n",
    "    titulo_buscar = titulo_buscar.lower()\n",
    "    \n",
    "    palabras_clave = titulo_buscar.split()\n",
    "    columnas_df = [df_tfidf[palabra] for palabra in palabras_clave]\n",
    "    columnas_df.append(sum(columnas_df))\n",
    "    etiquetas_filas = palabras_clave + [\" + \".join(palabras_clave)]\n",
    "\n",
    "    search_df = pd.DataFrame(columnas_df, index=etiquetas_filas).T\n",
    "\n",
    "    ultima_columna = etiquetas_filas[len(etiquetas_filas) - 1]\n",
    "\n",
    "    \n",
    "    search_df = search_df[search_df[ultima_columna] > 0]\n",
    "    test = search_df.sort_values([ultima_columna], ascending=[False])\n",
    "    ranking5 = test.head(5)\n",
    "\n",
    "    recomendadas = ranking5.index\n",
    "    #buscar el nombre de las 5 peliculas más similares a la ingresada \n",
    "    peliculas_recomendadas = []\n",
    "    recomendadas = ranking5.index\n",
    "    peliculas_recomendadas = [df_similitud_titulos[indice] for indice in recomendadas]\n",
    "    return {peliculas_recomendadas}"
   ]
  }
 ],
 "metadata": {
  "language_info": {
   "name": "python"
  },
  "orig_nbformat": 4
 },
 "nbformat": 4,
 "nbformat_minor": 2
}
